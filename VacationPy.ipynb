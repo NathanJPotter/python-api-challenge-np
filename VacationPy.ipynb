{
 "cells": [
  {
   "cell_type": "markdown",
   "metadata": {},
   "source": [
    "# VacationPy\n",
    "----\n",
    "\n",
    "#### Note\n",
    "* Keep an eye on your API usage. Use https://developers.google.com/maps/reporting/gmp-reporting as reference for how to monitor your usage and billing.\n",
    "\n",
    "* Instructions have been included for each segment. You do not have to follow them exactly, but they are included to help you think through the steps."
   ]
  },
  {
   "cell_type": "code",
   "execution_count": 13,
   "metadata": {},
   "outputs": [],
   "source": [
    "# Dependencies and Setup\n",
    "import matplotlib.pyplot as plt\n",
    "import pandas as pd\n",
    "import numpy as np\n",
    "import requests\n",
    "import gmaps\n",
    "import os\n",
    "\n",
    "# Import API key\n",
    "from api_keys import g_key"
   ]
  },
  {
   "cell_type": "markdown",
   "metadata": {},
   "source": [
    "### Store Part I results into DataFrame\n",
    "* Load the csv exported in Part I to a DataFrame"
   ]
  },
  {
   "cell_type": "code",
   "execution_count": 11,
   "metadata": {},
   "outputs": [
    {
     "data": {
      "text/html": [
       "<div>\n",
       "<style scoped>\n",
       "    .dataframe tbody tr th:only-of-type {\n",
       "        vertical-align: middle;\n",
       "    }\n",
       "\n",
       "    .dataframe tbody tr th {\n",
       "        vertical-align: top;\n",
       "    }\n",
       "\n",
       "    .dataframe thead th {\n",
       "        text-align: right;\n",
       "    }\n",
       "</style>\n",
       "<table border=\"1\" class=\"dataframe\">\n",
       "  <thead>\n",
       "    <tr style=\"text-align: right;\">\n",
       "      <th></th>\n",
       "      <th>City</th>\n",
       "      <th>Lat</th>\n",
       "      <th>Lng</th>\n",
       "      <th>Max Temp</th>\n",
       "      <th>Humidity</th>\n",
       "      <th>Cloudiness</th>\n",
       "      <th>Wind Speed</th>\n",
       "      <th>Country</th>\n",
       "      <th>Date</th>\n",
       "    </tr>\n",
       "  </thead>\n",
       "  <tbody>\n",
       "    <tr>\n",
       "      <th>0</th>\n",
       "      <td>Vila Velha</td>\n",
       "      <td>-20.3297</td>\n",
       "      <td>-40.2925</td>\n",
       "      <td>64.35</td>\n",
       "      <td>94</td>\n",
       "      <td>40</td>\n",
       "      <td>3.44</td>\n",
       "      <td>BR</td>\n",
       "      <td>1624169083</td>\n",
       "    </tr>\n",
       "    <tr>\n",
       "      <th>1</th>\n",
       "      <td>Mataura</td>\n",
       "      <td>-46.1927</td>\n",
       "      <td>168.8643</td>\n",
       "      <td>45.48</td>\n",
       "      <td>95</td>\n",
       "      <td>76</td>\n",
       "      <td>3.51</td>\n",
       "      <td>NZ</td>\n",
       "      <td>1624168909</td>\n",
       "    </tr>\n",
       "    <tr>\n",
       "      <th>2</th>\n",
       "      <td>Cap Malheureux</td>\n",
       "      <td>-19.9842</td>\n",
       "      <td>57.6142</td>\n",
       "      <td>75.47</td>\n",
       "      <td>59</td>\n",
       "      <td>38</td>\n",
       "      <td>11.99</td>\n",
       "      <td>MU</td>\n",
       "      <td>1624169083</td>\n",
       "    </tr>\n",
       "    <tr>\n",
       "      <th>3</th>\n",
       "      <td>Wu’an</td>\n",
       "      <td>31.6836</td>\n",
       "      <td>112.0044</td>\n",
       "      <td>73.04</td>\n",
       "      <td>62</td>\n",
       "      <td>100</td>\n",
       "      <td>2.64</td>\n",
       "      <td>CN</td>\n",
       "      <td>1624169084</td>\n",
       "    </tr>\n",
       "    <tr>\n",
       "      <th>4</th>\n",
       "      <td>Rikitea</td>\n",
       "      <td>-23.1203</td>\n",
       "      <td>-134.9692</td>\n",
       "      <td>75.20</td>\n",
       "      <td>77</td>\n",
       "      <td>10</td>\n",
       "      <td>19.93</td>\n",
       "      <td>PF</td>\n",
       "      <td>1624169084</td>\n",
       "    </tr>\n",
       "    <tr>\n",
       "      <th>...</th>\n",
       "      <td>...</td>\n",
       "      <td>...</td>\n",
       "      <td>...</td>\n",
       "      <td>...</td>\n",
       "      <td>...</td>\n",
       "      <td>...</td>\n",
       "      <td>...</td>\n",
       "      <td>...</td>\n",
       "      <td>...</td>\n",
       "    </tr>\n",
       "    <tr>\n",
       "      <th>574</th>\n",
       "      <td>Taquara</td>\n",
       "      <td>-29.6506</td>\n",
       "      <td>-50.7806</td>\n",
       "      <td>58.78</td>\n",
       "      <td>89</td>\n",
       "      <td>100</td>\n",
       "      <td>1.39</td>\n",
       "      <td>BR</td>\n",
       "      <td>1624169243</td>\n",
       "    </tr>\n",
       "    <tr>\n",
       "      <th>575</th>\n",
       "      <td>Kaeo</td>\n",
       "      <td>-35.1000</td>\n",
       "      <td>173.7833</td>\n",
       "      <td>58.32</td>\n",
       "      <td>93</td>\n",
       "      <td>33</td>\n",
       "      <td>15.59</td>\n",
       "      <td>NZ</td>\n",
       "      <td>1624169243</td>\n",
       "    </tr>\n",
       "    <tr>\n",
       "      <th>576</th>\n",
       "      <td>Evensk</td>\n",
       "      <td>61.9500</td>\n",
       "      <td>159.2333</td>\n",
       "      <td>53.17</td>\n",
       "      <td>63</td>\n",
       "      <td>78</td>\n",
       "      <td>2.64</td>\n",
       "      <td>RU</td>\n",
       "      <td>1624169243</td>\n",
       "    </tr>\n",
       "    <tr>\n",
       "      <th>577</th>\n",
       "      <td>Yebaishou</td>\n",
       "      <td>41.3975</td>\n",
       "      <td>119.6408</td>\n",
       "      <td>81.25</td>\n",
       "      <td>26</td>\n",
       "      <td>59</td>\n",
       "      <td>15.48</td>\n",
       "      <td>CN</td>\n",
       "      <td>1624169244</td>\n",
       "    </tr>\n",
       "    <tr>\n",
       "      <th>578</th>\n",
       "      <td>Flinders</td>\n",
       "      <td>-34.5833</td>\n",
       "      <td>150.8552</td>\n",
       "      <td>58.17</td>\n",
       "      <td>83</td>\n",
       "      <td>83</td>\n",
       "      <td>7.00</td>\n",
       "      <td>AU</td>\n",
       "      <td>1624169244</td>\n",
       "    </tr>\n",
       "  </tbody>\n",
       "</table>\n",
       "<p>579 rows × 9 columns</p>\n",
       "</div>"
      ],
      "text/plain": [
       "               City      Lat       Lng  Max Temp  Humidity  Cloudiness  \\\n",
       "0        Vila Velha -20.3297  -40.2925     64.35        94          40   \n",
       "1           Mataura -46.1927  168.8643     45.48        95          76   \n",
       "2    Cap Malheureux -19.9842   57.6142     75.47        59          38   \n",
       "3             Wu’an  31.6836  112.0044     73.04        62         100   \n",
       "4           Rikitea -23.1203 -134.9692     75.20        77          10   \n",
       "..              ...      ...       ...       ...       ...         ...   \n",
       "574         Taquara -29.6506  -50.7806     58.78        89         100   \n",
       "575            Kaeo -35.1000  173.7833     58.32        93          33   \n",
       "576          Evensk  61.9500  159.2333     53.17        63          78   \n",
       "577       Yebaishou  41.3975  119.6408     81.25        26          59   \n",
       "578        Flinders -34.5833  150.8552     58.17        83          83   \n",
       "\n",
       "     Wind Speed Country        Date  \n",
       "0          3.44      BR  1624169083  \n",
       "1          3.51      NZ  1624168909  \n",
       "2         11.99      MU  1624169083  \n",
       "3          2.64      CN  1624169084  \n",
       "4         19.93      PF  1624169084  \n",
       "..          ...     ...         ...  \n",
       "574        1.39      BR  1624169243  \n",
       "575       15.59      NZ  1624169243  \n",
       "576        2.64      RU  1624169243  \n",
       "577       15.48      CN  1624169244  \n",
       "578        7.00      AU  1624169244  \n",
       "\n",
       "[579 rows x 9 columns]"
      ]
     },
     "execution_count": 11,
     "metadata": {},
     "output_type": "execute_result"
    }
   ],
   "source": [
    "city_weather_df = pd.read_csv(\"output_data/cities.csv\")\n",
    "# city_weather.head()\n",
    "city_weather_data_df = city_weather_df.drop(columns = 'Unnamed: 0')\n",
    "city_weather_data_df"
   ]
  },
  {
   "cell_type": "markdown",
   "metadata": {},
   "source": [
    "### Humidity Heatmap\n",
    "* Configure gmaps.\n",
    "* Use the Lat and Lng as locations and Humidity as the weight.\n",
    "* Add Heatmap layer to map."
   ]
  },
  {
   "cell_type": "code",
   "execution_count": 16,
   "metadata": {},
   "outputs": [],
   "source": [
    "# Configure gmaps with API key\n",
    "gmaps.configure(api_key=g_key)\n",
    "\n",
    "# Lat and Lng as locations\n",
    "locations = city_weather_data_df[[\"Lat\", \"Lng\"]]\n",
    "\n",
    "# Add humidity as the weight\n",
    "\n",
    "humid_weight = city_weather_data_df[\"Humidity\"]\n"
   ]
  },
  {
   "cell_type": "code",
   "execution_count": 25,
   "metadata": {},
   "outputs": [
    {
     "data": {
      "application/vnd.jupyter.widget-view+json": {
       "model_id": "cd7eea6636a2442496fddfb3739b853f",
       "version_major": 2,
       "version_minor": 0
      },
      "text/plain": [
       "Figure(layout=FigureLayout(height='420px'))"
      ]
     },
     "metadata": {},
     "output_type": "display_data"
    }
   ],
   "source": [
    "# Create a humidity Heatmap layer\n",
    "\n",
    "fig = gmaps.figure(center=(0.0, 0.0), zoom_level=2)\n",
    "\n",
    "heat_layer = gmaps.heatmap_layer(locations, weights=humid_weight, dissipating=False, max_intensity=100,\n",
    "                                point_radius = 2)\n",
    "\n",
    "fig.add_layer(heat_layer)\n",
    "\n",
    "fig"
   ]
  },
  {
   "cell_type": "markdown",
   "metadata": {},
   "source": [
    "### Create new DataFrame fitting weather criteria\n",
    "* Narrow down the cities to fit weather conditions.\n",
    "* Drop any rows will null values."
   ]
  },
  {
   "cell_type": "code",
   "execution_count": 27,
   "metadata": {},
   "outputs": [
    {
     "ename": "SyntaxError",
     "evalue": "invalid syntax (<ipython-input-27-97fdcd2a4a67>, line 4)",
     "output_type": "error",
     "traceback": [
      "\u001b[1;36m  File \u001b[1;32m\"<ipython-input-27-97fdcd2a4a67>\"\u001b[1;36m, line \u001b[1;32m4\u001b[0m\n\u001b[1;33m    (city_weather_data_df[\"Cloudiness\"] == 0) & /\u001b[0m\n\u001b[1;37m                                                ^\u001b[0m\n\u001b[1;31mSyntaxError\u001b[0m\u001b[1;31m:\u001b[0m invalid syntax\n"
     ]
    }
   ],
   "source": [
    "# Narrow down the cities to fit weather conditions: max temp between 70 and 80, wind speed less than 10 mph,\n",
    "# and cloudiness equals to 0. \n",
    "narrowed_city_df = city_weather_data_df.loc[(city_weather_data_df[\"Wind Speed\"] <= 10) & \n",
    "                                            (city_weather_data_df[\"Cloudiness\"] == 0) &\n",
    "                                            (city_weather_data_df[\"Max Temp\"] >= 70) & \n",
    "                                            (city_weather_data_df[\"Max Temp\"] <= 80)].dropna()\n",
    "\n",
    "narrowed_city_df"
   ]
  },
  {
   "cell_type": "markdown",
   "metadata": {},
   "source": [
    "### Hotel Map\n",
    "* Store into variable named `hotel_df`.\n",
    "* Add a \"Hotel Name\" column to the DataFrame.\n",
    "* Set parameters to search for hotels with 5000 meters.\n",
    "* Hit the Google Places API for each city's coordinates.\n",
    "* Store the first Hotel result into the DataFrame.\n",
    "* Plot markers on top of the heatmap."
   ]
  },
  {
   "cell_type": "code",
   "execution_count": null,
   "metadata": {},
   "outputs": [],
   "source": []
  },
  {
   "cell_type": "code",
   "execution_count": null,
   "metadata": {},
   "outputs": [],
   "source": []
  },
  {
   "cell_type": "code",
   "execution_count": null,
   "metadata": {},
   "outputs": [],
   "source": [
    "# NOTE: Do not change any of the code in this cell\n",
    "\n",
    "# Using the template add the hotel marks to the heatmap\n",
    "info_box_template = \"\"\"\n",
    "<dl>\n",
    "<dt>Name</dt><dd>{Hotel Name}</dd>\n",
    "<dt>City</dt><dd>{City}</dd>\n",
    "<dt>Country</dt><dd>{Country}</dd>\n",
    "</dl>\n",
    "\"\"\"\n",
    "# Store the DataFrame Row\n",
    "# NOTE: be sure to update with your DataFrame name\n",
    "hotel_info = [info_box_template.format(**row) for index, row in hotel_df.iterrows()]\n",
    "locations = hotel_df[[\"Lat\", \"Lng\"]]"
   ]
  },
  {
   "cell_type": "code",
   "execution_count": null,
   "metadata": {},
   "outputs": [],
   "source": [
    "# Add marker layer ontop of heat map\n",
    "\n",
    "\n",
    "# Display figure\n"
   ]
  },
  {
   "cell_type": "code",
   "execution_count": null,
   "metadata": {},
   "outputs": [],
   "source": []
  }
 ],
 "metadata": {
  "kernelspec": {
   "display_name": "Python 3",
   "language": "python",
   "name": "python3"
  },
  "language_info": {
   "codemirror_mode": {
    "name": "ipython",
    "version": 3
   },
   "file_extension": ".py",
   "mimetype": "text/x-python",
   "name": "python",
   "nbconvert_exporter": "python",
   "pygments_lexer": "ipython3",
   "version": "3.8.5"
  },
  "latex_envs": {
   "LaTeX_envs_menu_present": true,
   "autoclose": false,
   "autocomplete": true,
   "bibliofile": "biblio.bib",
   "cite_by": "apalike",
   "current_citInitial": 1,
   "eqLabelWithNumbers": true,
   "eqNumInitial": 1,
   "hotkeys": {
    "equation": "Ctrl-E",
    "itemize": "Ctrl-I"
   },
   "labels_anchors": false,
   "latex_user_defs": false,
   "report_style_numbering": false,
   "user_envs_cfg": false
  }
 },
 "nbformat": 4,
 "nbformat_minor": 4
}
